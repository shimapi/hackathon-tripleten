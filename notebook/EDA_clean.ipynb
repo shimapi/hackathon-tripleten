{
 "cells": [
  {
   "cell_type": "markdown",
   "metadata": {},
   "source": [
    "# Hackathon Tripleten: Data Analysis"
   ]
  },
  {
   "cell_type": "code",
   "execution_count": 21,
   "metadata": {},
   "outputs": [],
   "source": [
    "# importamos librerias\n",
    "import matplotlib.pyplot as plt\n",
    "import seaborn as sns\n",
    "import pandas as pd\n",
    "import numpy as np"
   ]
  },
  {
   "cell_type": "markdown",
   "metadata": {},
   "source": [
    "## Tratamiento de datos"
   ]
  },
  {
   "cell_type": "code",
   "execution_count": 22,
   "metadata": {},
   "outputs": [
    {
     "data": {
      "text/html": [
       "<div>\n",
       "<style scoped>\n",
       "    .dataframe tbody tr th:only-of-type {\n",
       "        vertical-align: middle;\n",
       "    }\n",
       "\n",
       "    .dataframe tbody tr th {\n",
       "        vertical-align: top;\n",
       "    }\n",
       "\n",
       "    .dataframe thead th {\n",
       "        text-align: right;\n",
       "    }\n",
       "</style>\n",
       "<table border=\"1\" class=\"dataframe\">\n",
       "  <thead>\n",
       "    <tr style=\"text-align: right;\">\n",
       "      <th></th>\n",
       "      <th>invoice_no</th>\n",
       "      <th>stock_code</th>\n",
       "      <th>description</th>\n",
       "      <th>quantity</th>\n",
       "      <th>invoice_date</th>\n",
       "      <th>unit_price</th>\n",
       "      <th>customer_id</th>\n",
       "      <th>region</th>\n",
       "      <th>normalized_description</th>\n",
       "    </tr>\n",
       "  </thead>\n",
       "  <tbody>\n",
       "    <tr>\n",
       "      <th>0</th>\n",
       "      <td>536365</td>\n",
       "      <td>85123A</td>\n",
       "      <td>WHITE HANGING HEART TLIGHT HOLDER</td>\n",
       "      <td>6</td>\n",
       "      <td>2019-01-12 08:26:00</td>\n",
       "      <td>2.55</td>\n",
       "      <td>17850.0</td>\n",
       "      <td>United Kingdom</td>\n",
       "      <td>white hang heart tlight holder</td>\n",
       "    </tr>\n",
       "    <tr>\n",
       "      <th>1</th>\n",
       "      <td>536365</td>\n",
       "      <td>71053</td>\n",
       "      <td>WHITE METAL LANTERN</td>\n",
       "      <td>6</td>\n",
       "      <td>2019-01-12 08:26:00</td>\n",
       "      <td>3.39</td>\n",
       "      <td>17850.0</td>\n",
       "      <td>United Kingdom</td>\n",
       "      <td>white metal lantern</td>\n",
       "    </tr>\n",
       "    <tr>\n",
       "      <th>2</th>\n",
       "      <td>536365</td>\n",
       "      <td>84406B</td>\n",
       "      <td>CREAM CUPID HEARTS COAT HANGER</td>\n",
       "      <td>8</td>\n",
       "      <td>2019-01-12 08:26:00</td>\n",
       "      <td>2.75</td>\n",
       "      <td>17850.0</td>\n",
       "      <td>United Kingdom</td>\n",
       "      <td>cream cupid hearts coat hanger</td>\n",
       "    </tr>\n",
       "    <tr>\n",
       "      <th>3</th>\n",
       "      <td>536365</td>\n",
       "      <td>84029G</td>\n",
       "      <td>KNITTED UNION FLAG HOT WATER BOTTLE</td>\n",
       "      <td>6</td>\n",
       "      <td>2019-01-12 08:26:00</td>\n",
       "      <td>3.39</td>\n",
       "      <td>17850.0</td>\n",
       "      <td>United Kingdom</td>\n",
       "      <td>knit union flag hot water bottle</td>\n",
       "    </tr>\n",
       "    <tr>\n",
       "      <th>4</th>\n",
       "      <td>536365</td>\n",
       "      <td>84029E</td>\n",
       "      <td>RED WOOLLY HOTTIE WHITE HEART</td>\n",
       "      <td>6</td>\n",
       "      <td>2019-01-12 08:26:00</td>\n",
       "      <td>3.39</td>\n",
       "      <td>17850.0</td>\n",
       "      <td>United Kingdom</td>\n",
       "      <td>red woolly hottie white heart</td>\n",
       "    </tr>\n",
       "  </tbody>\n",
       "</table>\n",
       "</div>"
      ],
      "text/plain": [
       "  invoice_no stock_code                          description  quantity  \\\n",
       "0     536365     85123A    WHITE HANGING HEART TLIGHT HOLDER         6   \n",
       "1     536365      71053                  WHITE METAL LANTERN         6   \n",
       "2     536365     84406B       CREAM CUPID HEARTS COAT HANGER         8   \n",
       "3     536365     84029G  KNITTED UNION FLAG HOT WATER BOTTLE         6   \n",
       "4     536365     84029E        RED WOOLLY HOTTIE WHITE HEART         6   \n",
       "\n",
       "          invoice_date  unit_price customer_id          region  \\\n",
       "0  2019-01-12 08:26:00        2.55     17850.0  United Kingdom   \n",
       "1  2019-01-12 08:26:00        3.39     17850.0  United Kingdom   \n",
       "2  2019-01-12 08:26:00        2.75     17850.0  United Kingdom   \n",
       "3  2019-01-12 08:26:00        3.39     17850.0  United Kingdom   \n",
       "4  2019-01-12 08:26:00        3.39     17850.0  United Kingdom   \n",
       "\n",
       "             normalized_description  \n",
       "0    white hang heart tlight holder  \n",
       "1               white metal lantern  \n",
       "2    cream cupid hearts coat hanger  \n",
       "3  knit union flag hot water bottle  \n",
       "4     red woolly hottie white heart  "
      ]
     },
     "execution_count": 22,
     "metadata": {},
     "output_type": "execute_result"
    }
   ],
   "source": [
    "# cargamos datos\n",
    "df = pd.read_csv('../datasets/intermediate/df_online_retail_cleaned.csv')\n",
    "df.head(5)"
   ]
  },
  {
   "cell_type": "code",
   "execution_count": 23,
   "metadata": {},
   "outputs": [
    {
     "name": "stdout",
     "output_type": "stream",
     "text": [
      "<class 'pandas.core.frame.DataFrame'>\n",
      "RangeIndex: 535187 entries, 0 to 535186\n",
      "Data columns (total 9 columns):\n",
      " #   Column                  Non-Null Count   Dtype  \n",
      "---  ------                  --------------   -----  \n",
      " 0   invoice_no              535187 non-null  object \n",
      " 1   stock_code              535187 non-null  object \n",
      " 2   description             535187 non-null  object \n",
      " 3   quantity                535187 non-null  int64  \n",
      " 4   invoice_date            535187 non-null  object \n",
      " 5   unit_price              535187 non-null  float64\n",
      " 6   customer_id             535187 non-null  object \n",
      " 7   region                  535187 non-null  object \n",
      " 8   normalized_description  535187 non-null  object \n",
      "dtypes: float64(1), int64(1), object(7)\n",
      "memory usage: 36.7+ MB\n"
     ]
    }
   ],
   "source": [
    "# mostramos info\n",
    "df.info()"
   ]
  },
  {
   "cell_type": "code",
   "execution_count": 24,
   "metadata": {},
   "outputs": [
    {
     "name": "stdout",
     "output_type": "stream",
     "text": [
      "<class 'pandas.core.frame.DataFrame'>\n",
      "RangeIndex: 535187 entries, 0 to 535186\n",
      "Data columns (total 9 columns):\n",
      " #   Column                  Non-Null Count   Dtype         \n",
      "---  ------                  --------------   -----         \n",
      " 0   invoice_no              535187 non-null  object        \n",
      " 1   stock_code              535187 non-null  object        \n",
      " 2   description             535187 non-null  object        \n",
      " 3   quantity                535187 non-null  int64         \n",
      " 4   invoice_date            535187 non-null  datetime64[ns]\n",
      " 5   unit_price              535187 non-null  float64       \n",
      " 6   customer_id             535187 non-null  object        \n",
      " 7   region                  535187 non-null  object        \n",
      " 8   normalized_description  535187 non-null  object        \n",
      "dtypes: datetime64[ns](1), float64(1), int64(1), object(6)\n",
      "memory usage: 36.7+ MB\n"
     ]
    }
   ],
   "source": [
    "# cambiamos tipos de dato\n",
    "df['invoice_date'] = pd.to_datetime(df['invoice_date'])\n",
    "df['quantity'] = df['quantity'].astype('int')\n",
    "df.info()"
   ]
  },
  {
   "cell_type": "code",
   "execution_count": 25,
   "metadata": {},
   "outputs": [
    {
     "data": {
      "text/html": [
       "<div>\n",
       "<style scoped>\n",
       "    .dataframe tbody tr th:only-of-type {\n",
       "        vertical-align: middle;\n",
       "    }\n",
       "\n",
       "    .dataframe tbody tr th {\n",
       "        vertical-align: top;\n",
       "    }\n",
       "\n",
       "    .dataframe thead th {\n",
       "        text-align: right;\n",
       "    }\n",
       "</style>\n",
       "<table border=\"1\" class=\"dataframe\">\n",
       "  <thead>\n",
       "    <tr style=\"text-align: right;\">\n",
       "      <th></th>\n",
       "      <th>quantity</th>\n",
       "      <th>invoice_date</th>\n",
       "      <th>unit_price</th>\n",
       "    </tr>\n",
       "  </thead>\n",
       "  <tbody>\n",
       "    <tr>\n",
       "      <th>count</th>\n",
       "      <td>535187.000000</td>\n",
       "      <td>535187</td>\n",
       "      <td>535187.000000</td>\n",
       "    </tr>\n",
       "    <tr>\n",
       "      <th>mean</th>\n",
       "      <td>9.671593</td>\n",
       "      <td>2020-06-15 18:13:42.470650368</td>\n",
       "      <td>4.645242</td>\n",
       "    </tr>\n",
       "    <tr>\n",
       "      <th>min</th>\n",
       "      <td>-80995.000000</td>\n",
       "      <td>2019-01-12 08:26:00</td>\n",
       "      <td>-11062.060000</td>\n",
       "    </tr>\n",
       "    <tr>\n",
       "      <th>25%</th>\n",
       "      <td>1.000000</td>\n",
       "      <td>2020-03-23 10:43:00</td>\n",
       "      <td>1.250000</td>\n",
       "    </tr>\n",
       "    <tr>\n",
       "      <th>50%</th>\n",
       "      <td>3.000000</td>\n",
       "      <td>2020-07-03 14:54:00</td>\n",
       "      <td>2.080000</td>\n",
       "    </tr>\n",
       "    <tr>\n",
       "      <th>75%</th>\n",
       "      <td>10.000000</td>\n",
       "      <td>2020-10-04 15:32:00</td>\n",
       "      <td>4.130000</td>\n",
       "    </tr>\n",
       "    <tr>\n",
       "      <th>max</th>\n",
       "      <td>80995.000000</td>\n",
       "      <td>2020-12-10 17:19:00</td>\n",
       "      <td>38970.000000</td>\n",
       "    </tr>\n",
       "    <tr>\n",
       "      <th>std</th>\n",
       "      <td>219.059056</td>\n",
       "      <td>NaN</td>\n",
       "      <td>97.364810</td>\n",
       "    </tr>\n",
       "  </tbody>\n",
       "</table>\n",
       "</div>"
      ],
      "text/plain": [
       "            quantity                   invoice_date     unit_price\n",
       "count  535187.000000                         535187  535187.000000\n",
       "mean        9.671593  2020-06-15 18:13:42.470650368       4.645242\n",
       "min    -80995.000000            2019-01-12 08:26:00  -11062.060000\n",
       "25%         1.000000            2020-03-23 10:43:00       1.250000\n",
       "50%         3.000000            2020-07-03 14:54:00       2.080000\n",
       "75%        10.000000            2020-10-04 15:32:00       4.130000\n",
       "max     80995.000000            2020-12-10 17:19:00   38970.000000\n",
       "std       219.059056                            NaN      97.364810"
      ]
     },
     "execution_count": 25,
     "metadata": {},
     "output_type": "execute_result"
    }
   ],
   "source": [
    "# mostramos describe\n",
    "df.describe()"
   ]
  },
  {
   "cell_type": "markdown",
   "metadata": {},
   "source": [
    "## Valores Atipicos"
   ]
  },
  {
   "cell_type": "code",
   "execution_count": 26,
   "metadata": {},
   "outputs": [
    {
     "name": "stdout",
     "output_type": "stream",
     "text": [
      "<class 'pandas.core.frame.DataFrame'>\n",
      "Index: 524878 entries, 0 to 535186\n",
      "Data columns (total 9 columns):\n",
      " #   Column                  Non-Null Count   Dtype         \n",
      "---  ------                  --------------   -----         \n",
      " 0   invoice_no              524878 non-null  object        \n",
      " 1   stock_code              524878 non-null  object        \n",
      " 2   description             524878 non-null  object        \n",
      " 3   quantity                524878 non-null  int64         \n",
      " 4   invoice_date            524878 non-null  datetime64[ns]\n",
      " 5   unit_price              524878 non-null  float64       \n",
      " 6   customer_id             524878 non-null  object        \n",
      " 7   region                  524878 non-null  object        \n",
      " 8   normalized_description  524878 non-null  object        \n",
      "dtypes: datetime64[ns](1), float64(1), int64(1), object(6)\n",
      "memory usage: 40.0+ MB\n"
     ]
    }
   ],
   "source": [
    "# trabajaremos con la df de qtity > 0 y unit price > 0\n",
    "df_pos = df[(df['quantity'] > 0) & \n",
    "                     (df['unit_price'] > 0)]\n",
    "df_pos.info()"
   ]
  },
  {
   "cell_type": "code",
   "execution_count": 27,
   "metadata": {},
   "outputs": [
    {
     "data": {
      "text/html": [
       "<div>\n",
       "<style scoped>\n",
       "    .dataframe tbody tr th:only-of-type {\n",
       "        vertical-align: middle;\n",
       "    }\n",
       "\n",
       "    .dataframe tbody tr th {\n",
       "        vertical-align: top;\n",
       "    }\n",
       "\n",
       "    .dataframe thead th {\n",
       "        text-align: right;\n",
       "    }\n",
       "</style>\n",
       "<table border=\"1\" class=\"dataframe\">\n",
       "  <thead>\n",
       "    <tr style=\"text-align: right;\">\n",
       "      <th></th>\n",
       "      <th>quantity</th>\n",
       "      <th>invoice_date</th>\n",
       "      <th>unit_price</th>\n",
       "    </tr>\n",
       "  </thead>\n",
       "  <tbody>\n",
       "    <tr>\n",
       "      <th>count</th>\n",
       "      <td>524878.000000</td>\n",
       "      <td>524878</td>\n",
       "      <td>524878.000000</td>\n",
       "    </tr>\n",
       "    <tr>\n",
       "      <th>mean</th>\n",
       "      <td>10.616600</td>\n",
       "      <td>2020-06-15 19:21:51.678637568</td>\n",
       "      <td>3.922573</td>\n",
       "    </tr>\n",
       "    <tr>\n",
       "      <th>min</th>\n",
       "      <td>1.000000</td>\n",
       "      <td>2019-01-12 08:26:00</td>\n",
       "      <td>0.001000</td>\n",
       "    </tr>\n",
       "    <tr>\n",
       "      <th>25%</th>\n",
       "      <td>1.000000</td>\n",
       "      <td>2020-03-23 10:43:00</td>\n",
       "      <td>1.250000</td>\n",
       "    </tr>\n",
       "    <tr>\n",
       "      <th>50%</th>\n",
       "      <td>4.000000</td>\n",
       "      <td>2020-07-03 17:22:00</td>\n",
       "      <td>2.080000</td>\n",
       "    </tr>\n",
       "    <tr>\n",
       "      <th>75%</th>\n",
       "      <td>11.000000</td>\n",
       "      <td>2020-10-05 10:20:00</td>\n",
       "      <td>4.130000</td>\n",
       "    </tr>\n",
       "    <tr>\n",
       "      <th>max</th>\n",
       "      <td>80995.000000</td>\n",
       "      <td>2020-12-10 17:19:00</td>\n",
       "      <td>13541.330000</td>\n",
       "    </tr>\n",
       "    <tr>\n",
       "      <th>std</th>\n",
       "      <td>156.280031</td>\n",
       "      <td>NaN</td>\n",
       "      <td>36.093028</td>\n",
       "    </tr>\n",
       "  </tbody>\n",
       "</table>\n",
       "</div>"
      ],
      "text/plain": [
       "            quantity                   invoice_date     unit_price\n",
       "count  524878.000000                         524878  524878.000000\n",
       "mean       10.616600  2020-06-15 19:21:51.678637568       3.922573\n",
       "min         1.000000            2019-01-12 08:26:00       0.001000\n",
       "25%         1.000000            2020-03-23 10:43:00       1.250000\n",
       "50%         4.000000            2020-07-03 17:22:00       2.080000\n",
       "75%        11.000000            2020-10-05 10:20:00       4.130000\n",
       "max     80995.000000            2020-12-10 17:19:00   13541.330000\n",
       "std       156.280031                            NaN      36.093028"
      ]
     },
     "execution_count": 27,
     "metadata": {},
     "output_type": "execute_result"
    }
   ],
   "source": [
    "# mostramos describe para df positivo\n",
    "df_pos.describe()"
   ]
  },
  {
   "cell_type": "code",
   "execution_count": 28,
   "metadata": {},
   "outputs": [
    {
     "data": {
      "text/plain": [
       "np.float64(100.0)"
      ]
     },
     "execution_count": 28,
     "metadata": {},
     "output_type": "execute_result"
    }
   ],
   "source": [
    "# calculamos percentil para quantity\n",
    "pos_percentile_qtity = 99\n",
    "pos_thres_qtity = np.percentile(df_pos['quantity'],\n",
    "                                 q=pos_percentile_qtity)\n",
    "pos_thres_qtity"
   ]
  },
  {
   "cell_type": "code",
   "execution_count": 29,
   "metadata": {},
   "outputs": [
    {
     "data": {
      "text/plain": [
       "np.float64(16.98)"
      ]
     },
     "execution_count": 29,
     "metadata": {},
     "output_type": "execute_result"
    }
   ],
   "source": [
    "# calculamos percentil 99 para unit price\n",
    "pos_percentile_uprice = 99\n",
    "pos_thres_uprice = np.percentile(df_pos['unit_price'],\n",
    "                                  q=pos_percentile_uprice)\n",
    "pos_thres_uprice"
   ]
  },
  {
   "cell_type": "code",
   "execution_count": 30,
   "metadata": {},
   "outputs": [
    {
     "data": {
      "text/html": [
       "<div>\n",
       "<style scoped>\n",
       "    .dataframe tbody tr th:only-of-type {\n",
       "        vertical-align: middle;\n",
       "    }\n",
       "\n",
       "    .dataframe tbody tr th {\n",
       "        vertical-align: top;\n",
       "    }\n",
       "\n",
       "    .dataframe thead th {\n",
       "        text-align: right;\n",
       "    }\n",
       "</style>\n",
       "<table border=\"1\" class=\"dataframe\">\n",
       "  <thead>\n",
       "    <tr style=\"text-align: right;\">\n",
       "      <th></th>\n",
       "      <th>quantity</th>\n",
       "      <th>invoice_date</th>\n",
       "      <th>unit_price</th>\n",
       "    </tr>\n",
       "  </thead>\n",
       "  <tbody>\n",
       "    <tr>\n",
       "      <th>count</th>\n",
       "      <td>512897.000000</td>\n",
       "      <td>512897</td>\n",
       "      <td>512897.000000</td>\n",
       "    </tr>\n",
       "    <tr>\n",
       "      <th>mean</th>\n",
       "      <td>7.730147</td>\n",
       "      <td>2020-06-16 01:32:06.094673920</td>\n",
       "      <td>3.119126</td>\n",
       "    </tr>\n",
       "    <tr>\n",
       "      <th>min</th>\n",
       "      <td>1.000000</td>\n",
       "      <td>2019-01-12 08:26:00</td>\n",
       "      <td>0.001000</td>\n",
       "    </tr>\n",
       "    <tr>\n",
       "      <th>25%</th>\n",
       "      <td>1.000000</td>\n",
       "      <td>2020-03-23 12:05:00</td>\n",
       "      <td>1.250000</td>\n",
       "    </tr>\n",
       "    <tr>\n",
       "      <th>50%</th>\n",
       "      <td>3.000000</td>\n",
       "      <td>2020-07-04 10:10:00</td>\n",
       "      <td>2.080000</td>\n",
       "    </tr>\n",
       "    <tr>\n",
       "      <th>75%</th>\n",
       "      <td>10.000000</td>\n",
       "      <td>2020-10-05 12:20:00</td>\n",
       "      <td>4.130000</td>\n",
       "    </tr>\n",
       "    <tr>\n",
       "      <th>max</th>\n",
       "      <td>99.000000</td>\n",
       "      <td>2020-12-10 17:19:00</td>\n",
       "      <td>16.950000</td>\n",
       "    </tr>\n",
       "    <tr>\n",
       "      <th>std</th>\n",
       "      <td>11.427878</td>\n",
       "      <td>NaN</td>\n",
       "      <td>2.941307</td>\n",
       "    </tr>\n",
       "  </tbody>\n",
       "</table>\n",
       "</div>"
      ],
      "text/plain": [
       "            quantity                   invoice_date     unit_price\n",
       "count  512897.000000                         512897  512897.000000\n",
       "mean        7.730147  2020-06-16 01:32:06.094673920       3.119126\n",
       "min         1.000000            2019-01-12 08:26:00       0.001000\n",
       "25%         1.000000            2020-03-23 12:05:00       1.250000\n",
       "50%         3.000000            2020-07-04 10:10:00       2.080000\n",
       "75%        10.000000            2020-10-05 12:20:00       4.130000\n",
       "max        99.000000            2020-12-10 17:19:00      16.950000\n",
       "std        11.427878                            NaN       2.941307"
      ]
     },
     "execution_count": 30,
     "metadata": {},
     "output_type": "execute_result"
    }
   ],
   "source": [
    "# filtramos datos atipicos\n",
    "df_pos_typical = df_pos[\n",
    "    (df_pos['quantity'] < pos_thres_qtity) & \n",
    "    (df_pos['unit_price'] < pos_thres_uprice)]\n",
    "df_pos_typical.describe()"
   ]
  },
  {
   "cell_type": "code",
   "execution_count": 31,
   "metadata": {},
   "outputs": [
    {
     "name": "stdout",
     "output_type": "stream",
     "text": [
      "<class 'pandas.core.frame.DataFrame'>\n",
      "Index: 512897 entries, 0 to 535186\n",
      "Data columns (total 9 columns):\n",
      " #   Column                  Non-Null Count   Dtype         \n",
      "---  ------                  --------------   -----         \n",
      " 0   invoice_no              512897 non-null  object        \n",
      " 1   stock_code              512897 non-null  object        \n",
      " 2   description             512897 non-null  object        \n",
      " 3   quantity                512897 non-null  int64         \n",
      " 4   invoice_date            512897 non-null  datetime64[ns]\n",
      " 5   unit_price              512897 non-null  float64       \n",
      " 6   customer_id             512897 non-null  object        \n",
      " 7   region                  512897 non-null  object        \n",
      " 8   normalized_description  512897 non-null  object        \n",
      "dtypes: datetime64[ns](1), float64(1), int64(1), object(6)\n",
      "memory usage: 39.1+ MB\n"
     ]
    }
   ],
   "source": [
    "# mostramos info una vez mas\n",
    "df_pos_typical.info()"
   ]
  },
  {
   "cell_type": "markdown",
   "metadata": {},
   "source": [
    "##  Top de productos"
   ]
  },
  {
   "cell_type": "code",
   "execution_count": 32,
   "metadata": {},
   "outputs": [
    {
     "data": {
      "text/html": [
       "<div>\n",
       "<style scoped>\n",
       "    .dataframe tbody tr th:only-of-type {\n",
       "        vertical-align: middle;\n",
       "    }\n",
       "\n",
       "    .dataframe tbody tr th {\n",
       "        vertical-align: top;\n",
       "    }\n",
       "\n",
       "    .dataframe thead th {\n",
       "        text-align: right;\n",
       "    }\n",
       "</style>\n",
       "<table border=\"1\" class=\"dataframe\">\n",
       "  <thead>\n",
       "    <tr style=\"text-align: right;\">\n",
       "      <th></th>\n",
       "      <th>normalized_description</th>\n",
       "      <th>quantity</th>\n",
       "    </tr>\n",
       "  </thead>\n",
       "  <tbody>\n",
       "    <tr>\n",
       "      <th>0</th>\n",
       "      <td>white hang heart tlight holder</td>\n",
       "      <td>29780</td>\n",
       "    </tr>\n",
       "    <tr>\n",
       "      <th>1</th>\n",
       "      <td>wooden heart christmas scandinavian</td>\n",
       "      <td>23163</td>\n",
       "    </tr>\n",
       "    <tr>\n",
       "      <th>2</th>\n",
       "      <td>assort colour bird ornament</td>\n",
       "      <td>22682</td>\n",
       "    </tr>\n",
       "    <tr>\n",
       "      <th>3</th>\n",
       "      <td>world war 2 gliders asstd design</td>\n",
       "      <td>21927</td>\n",
       "    </tr>\n",
       "    <tr>\n",
       "      <th>4</th>\n",
       "      <td>pack of 72 retrospot cake case</td>\n",
       "      <td>19029</td>\n",
       "    </tr>\n",
       "    <tr>\n",
       "      <th>5</th>\n",
       "      <td>victorian glass hang tlight</td>\n",
       "      <td>18945</td>\n",
       "    </tr>\n",
       "    <tr>\n",
       "      <th>6</th>\n",
       "      <td>red stripe ceramic drawer knob</td>\n",
       "      <td>18648</td>\n",
       "    </tr>\n",
       "    <tr>\n",
       "      <th>7</th>\n",
       "      <td>jumbo bag red retrospot</td>\n",
       "      <td>17540</td>\n",
       "    </tr>\n",
       "    <tr>\n",
       "      <th>8</th>\n",
       "      <td>roses regency teacup and saucer</td>\n",
       "      <td>15036</td>\n",
       "    </tr>\n",
       "    <tr>\n",
       "      <th>9</th>\n",
       "      <td>rabbit night light</td>\n",
       "      <td>15016</td>\n",
       "    </tr>\n",
       "  </tbody>\n",
       "</table>\n",
       "</div>"
      ],
      "text/plain": [
       "                normalized_description  quantity\n",
       "0       white hang heart tlight holder     29780\n",
       "1  wooden heart christmas scandinavian     23163\n",
       "2          assort colour bird ornament     22682\n",
       "3     world war 2 gliders asstd design     21927\n",
       "4       pack of 72 retrospot cake case     19029\n",
       "5          victorian glass hang tlight     18945\n",
       "6       red stripe ceramic drawer knob     18648\n",
       "7              jumbo bag red retrospot     17540\n",
       "8      roses regency teacup and saucer     15036\n",
       "9                   rabbit night light     15016"
      ]
     },
     "execution_count": 32,
     "metadata": {},
     "output_type": "execute_result"
    }
   ],
   "source": [
    "# mostramos el top 10 de productos mas vendidos\n",
    "top10_products_quantity = df_pos_typical.groupby(by='normalized_description').agg({'quantity': 'sum'}).sort_values(by='quantity', ascending=False).head(10).reset_index()\n",
    "top10_products_quantity"
   ]
  },
  {
   "cell_type": "markdown",
   "metadata": {},
   "source": []
  },
  {
   "cell_type": "code",
   "execution_count": 33,
   "metadata": {},
   "outputs": [
    {
     "name": "stderr",
     "output_type": "stream",
     "text": [
      "C:\\Users\\ayrto\\AppData\\Local\\Temp\\ipykernel_7440\\601242180.py:3: UserWarning: set_ticklabels() should only be used with a fixed number of ticks, i.e. after set_ticks() or using a FixedLocator.\n",
      "  top10_products_quantity_barplot.set_xticklabels(labels=top10_products_quantity['normalized_description'], rotation= 90, size=7)\n"
     ]
    },
    {
     "data": {
      "image/png": "[encoded data removed]",
      "text/plain": [
       "<Figure size 640x480 with 1 Axes>"
      ]
     },
     "metadata": {},
     "output_type": "display_data"
    }
   ],
   "source": [
    "# grafico de barras\n",
    "top10_products_quantity_barplot = sns.barplot(data=top10_products_quantity, x='normalized_description', y='quantity')\n",
    "top10_products_quantity_barplot.set_xticklabels(labels=top10_products_quantity['normalized_description'], rotation= 90, size=7)\n",
    "\n",
    "plt.title('Top 10 de productos mas vendidos')\n",
    "plt.show()"
   ]
  },
  {
   "cell_type": "code",
   "execution_count": 34,
   "metadata": {},
   "outputs": [
    {
     "name": "stderr",
     "output_type": "stream",
     "text": [
      "C:\\Users\\ayrto\\AppData\\Local\\Temp\\ipykernel_7440\\1997966929.py:2: SettingWithCopyWarning: \n",
      "A value is trying to be set on a copy of a slice from a DataFrame.\n",
      "Try using .loc[row_indexer,col_indexer] = value instead\n",
      "\n",
      "See the caveats in the documentation: https://pandas.pydata.org/pandas-docs/stable/user_guide/indexing.html#returning-a-view-versus-a-copy\n",
      "  df_pos_typical.loc[:,'total'] = df_pos_typical['quantity'] * df_pos_typical['unit_price']\n"
     ]
    }
   ],
   "source": [
    "# creamos la columna total\n",
    "df_pos_typical.loc[:,'total'] = df_pos_typical['quantity'] * df_pos_typical['unit_price']"
   ]
  },
  {
   "cell_type": "code",
   "execution_count": 35,
   "metadata": {},
   "outputs": [
    {
     "data": {
      "text/html": [
       "<div>\n",
       "<style scoped>\n",
       "    .dataframe tbody tr th:only-of-type {\n",
       "        vertical-align: middle;\n",
       "    }\n",
       "\n",
       "    .dataframe tbody tr th {\n",
       "        vertical-align: top;\n",
       "    }\n",
       "\n",
       "    .dataframe thead th {\n",
       "        text-align: right;\n",
       "    }\n",
       "</style>\n",
       "<table border=\"1\" class=\"dataframe\">\n",
       "  <thead>\n",
       "    <tr style=\"text-align: right;\">\n",
       "      <th></th>\n",
       "      <th>normalized_description</th>\n",
       "      <th>total</th>\n",
       "    </tr>\n",
       "  </thead>\n",
       "  <tbody>\n",
       "    <tr>\n",
       "      <th>0</th>\n",
       "      <td>regency cakestand 3 tier</td>\n",
       "      <td>127590.47</td>\n",
       "    </tr>\n",
       "    <tr>\n",
       "      <th>1</th>\n",
       "      <td>white hang heart tlight holder</td>\n",
       "      <td>84613.36</td>\n",
       "    </tr>\n",
       "    <tr>\n",
       "      <th>2</th>\n",
       "      <td>party bunt</td>\n",
       "      <td>80760.95</td>\n",
       "    </tr>\n",
       "    <tr>\n",
       "      <th>3</th>\n",
       "      <td>alarm clock bakelike red</td>\n",
       "      <td>54773.30</td>\n",
       "    </tr>\n",
       "    <tr>\n",
       "      <th>4</th>\n",
       "      <td>roses regency teacup and saucer</td>\n",
       "      <td>46442.12</td>\n",
       "    </tr>\n",
       "    <tr>\n",
       "      <th>5</th>\n",
       "      <td>paper chain kit 50s christmas</td>\n",
       "      <td>44460.21</td>\n",
       "    </tr>\n",
       "    <tr>\n",
       "      <th>6</th>\n",
       "      <td>chilli light</td>\n",
       "      <td>43979.80</td>\n",
       "    </tr>\n",
       "    <tr>\n",
       "      <th>7</th>\n",
       "      <td>jumbo bag red retrospot</td>\n",
       "      <td>39569.56</td>\n",
       "    </tr>\n",
       "    <tr>\n",
       "      <th>8</th>\n",
       "      <td>assort colour bird ornament</td>\n",
       "      <td>38978.34</td>\n",
       "    </tr>\n",
       "    <tr>\n",
       "      <th>9</th>\n",
       "      <td>spotty bunt</td>\n",
       "      <td>37135.08</td>\n",
       "    </tr>\n",
       "  </tbody>\n",
       "</table>\n",
       "</div>"
      ],
      "text/plain": [
       "            normalized_description      total\n",
       "0         regency cakestand 3 tier  127590.47\n",
       "1   white hang heart tlight holder   84613.36\n",
       "2                       party bunt   80760.95\n",
       "3         alarm clock bakelike red   54773.30\n",
       "4  roses regency teacup and saucer   46442.12\n",
       "5    paper chain kit 50s christmas   44460.21\n",
       "6                     chilli light   43979.80\n",
       "7          jumbo bag red retrospot   39569.56\n",
       "8      assort colour bird ornament   38978.34\n",
       "9                      spotty bunt   37135.08"
      ]
     },
     "execution_count": 35,
     "metadata": {},
     "output_type": "execute_result"
    }
   ],
   "source": [
    "# mostramos el top 10 de productos que recaudan mas\n",
    "top10_products_total = df_pos_typical.groupby(by='normalized_description').agg({'total': 'sum'}).sort_values(by='total', ascending=False).head(10).reset_index()\n",
    "top10_products_total"
   ]
  },
  {
   "cell_type": "code",
   "execution_count": 36,
   "metadata": {},
   "outputs": [
    {
     "name": "stderr",
     "output_type": "stream",
     "text": [
      "C:\\Users\\ayrto\\AppData\\Local\\Temp\\ipykernel_7440\\3685340678.py:3: UserWarning: set_ticklabels() should only be used with a fixed number of ticks, i.e. after set_ticks() or using a FixedLocator.\n",
      "  top10_products_total_barplot.set_xticklabels(labels=top10_products_total['normalized_description'], rotation= 90, size=7)\n"
     ]
    },
    {
     "data": {
      "image/png": "[encoded data removed]",
      "text/plain": [
       "<Figure size 640x480 with 1 Axes>"
      ]
     },
     "metadata": {},
     "output_type": "display_data"
    }
   ],
   "source": [
    "# grafico de barras\n",
    "top10_products_total_barplot = sns.barplot(data=top10_products_total, x='normalized_description', y='total')\n",
    "top10_products_total_barplot.set_xticklabels(labels=top10_products_total['normalized_description'], rotation= 90, size=7)\n",
    "\n",
    "plt.title('Top 10 de productos mas recaudadores')\n",
    "plt.show()"
   ]
  },
  {
   "cell_type": "code",
   "execution_count": null,
   "metadata": {},
   "outputs": [],
   "source": []
  }
 ],
 "metadata": {
  "kernelspec": {
   "display_name": "hackathon_tripleten",
   "language": "python",
   "name": "python3"
  },
  "language_info": {
   "codemirror_mode": {
    "name": "ipython",
    "version": 3
   },
   "file_extension": ".py",
   "mimetype": "text/x-python",
   "name": "python",
   "nbconvert_exporter": "python",
   "pygments_lexer": "ipython3",
   "version": "3.9.6"
  }
 },
 "nbformat": 4,
 "nbformat_minor": 2
}
